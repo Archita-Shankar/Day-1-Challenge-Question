{
  "nbformat": 4,
  "nbformat_minor": 0,
  "metadata": {
    "colab": {
      "provenance": [],
      "authorship_tag": "ABX9TyPwTk3bGQexiVca6shdiTYX",
      "include_colab_link": true
    },
    "kernelspec": {
      "name": "python3",
      "display_name": "Python 3"
    },
    "language_info": {
      "name": "python"
    }
  },
  "cells": [
    {
      "cell_type": "markdown",
      "metadata": {
        "id": "view-in-github",
        "colab_type": "text"
      },
      "source": [
        "<a href=\"https://colab.research.google.com/github/Archita-Shankar/Day-1-Challenge-Question/blob/main/Day_1_Challenge_Question.ipynb\" target=\"_parent\"><img src=\"https://colab.research.google.com/assets/colab-badge.svg\" alt=\"Open In Colab\"/></a>"
      ]
    },
    {
      "cell_type": "code",
      "execution_count": 1,
      "metadata": {
        "colab": {
          "base_uri": "https://localhost:8080/"
        },
        "id": "AZ5V3F-o_W59",
        "outputId": "c8b72db6-373c-4b0c-ba65-dc44deb8973f"
      },
      "outputs": [
        {
          "output_type": "stream",
          "name": "stdout",
          "text": [
            "The original list : ['Ram', 1, 'Shyam', 2, 'Aman', 3]\n",
            "List after mixed sorting : [1, 2, 3, 'Aman', 'Ram', 'Shyam']\n"
          ]
        }
      ],
      "source": [
        "#Challenge Question\n",
        "\n",
        "# Python3 code to demonstrate working of\n",
        "# Sort Mixed List\n",
        "# using sort() + comparator\n",
        "\n",
        "# comparator function for sort\n",
        "def mixs(num):\n",
        "\ttry:\n",
        "\t\tele = int(num)\n",
        "\t\treturn (0, ele, '')\n",
        "\texcept ValueError:\n",
        "\t\treturn (1, num, '')\n",
        "\n",
        "\n",
        "# initialize list\n",
        "L = [\"Ram\", 1, \"Shyam\", 2, \"Aman\", 3]\n",
        "\n",
        "# printing original list\n",
        "print(\"The original list : \" + str(L))\n",
        "\n",
        "# Sort Mixed List\n",
        "# using sort() + comparator\n",
        "L.sort(key = mixs)\n",
        "\n",
        "# printing result\n",
        "print(\"List after mixed sorting : \" + str(L))\n"
      ]
    }
  ]
}